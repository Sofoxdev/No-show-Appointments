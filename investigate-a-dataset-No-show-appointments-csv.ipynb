{
 "cells": [
  {
   "cell_type": "markdown",
   "metadata": {},
   "source": [
    "\n",
    "\n",
    "# Project: Investigate the Dataset (No-show appointments)\n",
    "\n",
    "## Table of Contents\n",
    "<ul>\n",
    "<li><a href=\"#intro\">Introduction</a></li>\n",
    "<li><a href=\"#wrangling\">Data Wrangling</a></li>\n",
    "<li><a href=\"#eda\">Exploratory Data Analysis</a></li>\n",
    "<li><a href=\"#conclusions\">Conclusions</a></li>\n",
    "</ul>"
   ]
  },
  {
   "cell_type": "markdown",
   "metadata": {},
   "source": [
    "<a id='intro'></a>\n",
    "## Introduction\n",
    "\n",
    ">  The No-show appointments dataset contains the information of over a 100,000 patients in brazil who scheduled appointments with various hospitals in different locations in 2016. It contains information on if the patients showed up for their appointments or not.\n",
    "\n",
    "> The patients are denoted by the Patient ID, it also contains the ailments they have and whether or not the patient has been enrolled for the Bolsa family brazilian welfare program that gave them access to free healthcare.\n",
    "\n",
    "> Accross this dataset I will use my current knowledge of data analysis and data wrangling to generate valuable insights from this dataset. My insights should be able to:\n",
    "\n",
    "> examine the relationship between gender and the propensity to show up for scheduled appointments\n",
    "\n",
    "> investigate the neighbourhood that has the highest percentage of no-show and the location that had the lowest and examine trends between them.\n",
    "\n",
    "> study if senior citizens have a higher propensity to adhere to their scheduled appointment than the younger ones\n",
    "\n",
    "> identify the trends associated with patients who do not-show and those that show-up to appointments.\n",
    "\n",
    "> explore if patients with scholarships show up more than patients without scholarships.\n"
   ]
  },
  {
   "cell_type": "code",
   "execution_count": 129,
   "metadata": {},
   "outputs": [],
   "source": [
    "# import the libraries\n",
    "import pandas as pd\n",
    "import numpy as np\n",
    "import matplotlib.pyplot as plt\n",
    "import seaborn as sns\n"
   ]
  },
  {
   "cell_type": "markdown",
   "metadata": {},
   "source": [
    "<a id='wrangling'></a>\n",
    "## Data Wrangling\n",
    "\n",
    "> **In this section of the report, I will load in the data, check for cleanliness, and then trim and clean your dataset for analysis.**\n",
    "\n",
    "### General Properties"
   ]
  },
  {
   "cell_type": "code",
   "execution_count": 130,
   "metadata": {},
   "outputs": [],
   "source": [
    "# Load the data and print out a few lines.\n",
    "def file(arg):\n",
    "    df1 =pd.read_csv(arg)\n",
    "    return df1\n",
    "df = file('noshowappointments-may-2016.csv')"
   ]
  },
  {
   "cell_type": "code",
   "execution_count": 131,
   "metadata": {},
   "outputs": [
    {
     "name": "stdout",
     "output_type": "stream",
     "text": [
      "<class 'pandas.core.frame.DataFrame'>\n",
      "RangeIndex: 110527 entries, 0 to 110526\n",
      "Data columns (total 14 columns):\n",
      " #   Column          Non-Null Count   Dtype  \n",
      "---  ------          --------------   -----  \n",
      " 0   PatientId       110527 non-null  float64\n",
      " 1   AppointmentID   110527 non-null  int64  \n",
      " 2   Gender          110527 non-null  object \n",
      " 3   ScheduledDay    110527 non-null  object \n",
      " 4   AppointmentDay  110527 non-null  object \n",
      " 5   Age             110527 non-null  int64  \n",
      " 6   Neighbourhood   110527 non-null  object \n",
      " 7   Scholarship     110527 non-null  int64  \n",
      " 8   Hipertension    110527 non-null  int64  \n",
      " 9   Diabetes        110527 non-null  int64  \n",
      " 10  Alcoholism      110527 non-null  int64  \n",
      " 11  Handcap         110527 non-null  int64  \n",
      " 12  SMS_received    110527 non-null  int64  \n",
      " 13  No-show         110527 non-null  object \n",
      "dtypes: float64(1), int64(8), object(5)\n",
      "memory usage: 11.8+ MB\n"
     ]
    }
   ],
   "source": [
    "#getting information about the columns\n",
    "df.info()"
   ]
  },
  {
   "cell_type": "markdown",
   "metadata": {},
   "source": [
    "> **: From my first observation at a glance at the dataset, some of the columns are not stored in the right data type. For example the PatientId column is saved in a float, The AppointmentId is saved as an integer. The Schedule and appointment day columns are stored as strings.**\n",
    "\n",
    ">**The Scholarship,Hipertension,Diabetes,Alcoholism,Handcap and SMS_recieved columns are stored as integers instead of booleans.**\n",
    "\n",
    ">**The hipertension column wasn't spelled properly as well as the handcap column.**\n"
   ]
  },
  {
   "cell_type": "code",
   "execution_count": 132,
   "metadata": {},
   "outputs": [
    {
     "data": {
      "text/html": [
       "<div>\n",
       "<style scoped>\n",
       "    .dataframe tbody tr th:only-of-type {\n",
       "        vertical-align: middle;\n",
       "    }\n",
       "\n",
       "    .dataframe tbody tr th {\n",
       "        vertical-align: top;\n",
       "    }\n",
       "\n",
       "    .dataframe thead th {\n",
       "        text-align: right;\n",
       "    }\n",
       "</style>\n",
       "<table border=\"1\" class=\"dataframe\">\n",
       "  <thead>\n",
       "    <tr style=\"text-align: right;\">\n",
       "      <th></th>\n",
       "      <th>PatientId</th>\n",
       "      <th>AppointmentID</th>\n",
       "      <th>Age</th>\n",
       "      <th>Scholarship</th>\n",
       "      <th>Hipertension</th>\n",
       "      <th>Diabetes</th>\n",
       "      <th>Alcoholism</th>\n",
       "      <th>Handcap</th>\n",
       "      <th>SMS_received</th>\n",
       "    </tr>\n",
       "  </thead>\n",
       "  <tbody>\n",
       "    <tr>\n",
       "      <th>count</th>\n",
       "      <td>1.105270e+05</td>\n",
       "      <td>1.105270e+05</td>\n",
       "      <td>110527.000000</td>\n",
       "      <td>110527.000000</td>\n",
       "      <td>110527.000000</td>\n",
       "      <td>110527.000000</td>\n",
       "      <td>110527.000000</td>\n",
       "      <td>110527.000000</td>\n",
       "      <td>110527.000000</td>\n",
       "    </tr>\n",
       "    <tr>\n",
       "      <th>mean</th>\n",
       "      <td>1.474963e+14</td>\n",
       "      <td>5.675305e+06</td>\n",
       "      <td>37.088874</td>\n",
       "      <td>0.098266</td>\n",
       "      <td>0.197246</td>\n",
       "      <td>0.071865</td>\n",
       "      <td>0.030400</td>\n",
       "      <td>0.022248</td>\n",
       "      <td>0.321026</td>\n",
       "    </tr>\n",
       "    <tr>\n",
       "      <th>std</th>\n",
       "      <td>2.560949e+14</td>\n",
       "      <td>7.129575e+04</td>\n",
       "      <td>23.110205</td>\n",
       "      <td>0.297675</td>\n",
       "      <td>0.397921</td>\n",
       "      <td>0.258265</td>\n",
       "      <td>0.171686</td>\n",
       "      <td>0.161543</td>\n",
       "      <td>0.466873</td>\n",
       "    </tr>\n",
       "    <tr>\n",
       "      <th>min</th>\n",
       "      <td>3.921784e+04</td>\n",
       "      <td>5.030230e+06</td>\n",
       "      <td>-1.000000</td>\n",
       "      <td>0.000000</td>\n",
       "      <td>0.000000</td>\n",
       "      <td>0.000000</td>\n",
       "      <td>0.000000</td>\n",
       "      <td>0.000000</td>\n",
       "      <td>0.000000</td>\n",
       "    </tr>\n",
       "    <tr>\n",
       "      <th>25%</th>\n",
       "      <td>4.172614e+12</td>\n",
       "      <td>5.640286e+06</td>\n",
       "      <td>18.000000</td>\n",
       "      <td>0.000000</td>\n",
       "      <td>0.000000</td>\n",
       "      <td>0.000000</td>\n",
       "      <td>0.000000</td>\n",
       "      <td>0.000000</td>\n",
       "      <td>0.000000</td>\n",
       "    </tr>\n",
       "    <tr>\n",
       "      <th>50%</th>\n",
       "      <td>3.173184e+13</td>\n",
       "      <td>5.680573e+06</td>\n",
       "      <td>37.000000</td>\n",
       "      <td>0.000000</td>\n",
       "      <td>0.000000</td>\n",
       "      <td>0.000000</td>\n",
       "      <td>0.000000</td>\n",
       "      <td>0.000000</td>\n",
       "      <td>0.000000</td>\n",
       "    </tr>\n",
       "    <tr>\n",
       "      <th>75%</th>\n",
       "      <td>9.439172e+13</td>\n",
       "      <td>5.725524e+06</td>\n",
       "      <td>55.000000</td>\n",
       "      <td>0.000000</td>\n",
       "      <td>0.000000</td>\n",
       "      <td>0.000000</td>\n",
       "      <td>0.000000</td>\n",
       "      <td>0.000000</td>\n",
       "      <td>1.000000</td>\n",
       "    </tr>\n",
       "    <tr>\n",
       "      <th>max</th>\n",
       "      <td>9.999816e+14</td>\n",
       "      <td>5.790484e+06</td>\n",
       "      <td>115.000000</td>\n",
       "      <td>1.000000</td>\n",
       "      <td>1.000000</td>\n",
       "      <td>1.000000</td>\n",
       "      <td>1.000000</td>\n",
       "      <td>4.000000</td>\n",
       "      <td>1.000000</td>\n",
       "    </tr>\n",
       "  </tbody>\n",
       "</table>\n",
       "</div>"
      ],
      "text/plain": [
       "          PatientId  AppointmentID            Age    Scholarship  \\\n",
       "count  1.105270e+05   1.105270e+05  110527.000000  110527.000000   \n",
       "mean   1.474963e+14   5.675305e+06      37.088874       0.098266   \n",
       "std    2.560949e+14   7.129575e+04      23.110205       0.297675   \n",
       "min    3.921784e+04   5.030230e+06      -1.000000       0.000000   \n",
       "25%    4.172614e+12   5.640286e+06      18.000000       0.000000   \n",
       "50%    3.173184e+13   5.680573e+06      37.000000       0.000000   \n",
       "75%    9.439172e+13   5.725524e+06      55.000000       0.000000   \n",
       "max    9.999816e+14   5.790484e+06     115.000000       1.000000   \n",
       "\n",
       "        Hipertension       Diabetes     Alcoholism        Handcap  \\\n",
       "count  110527.000000  110527.000000  110527.000000  110527.000000   \n",
       "mean        0.197246       0.071865       0.030400       0.022248   \n",
       "std         0.397921       0.258265       0.171686       0.161543   \n",
       "min         0.000000       0.000000       0.000000       0.000000   \n",
       "25%         0.000000       0.000000       0.000000       0.000000   \n",
       "50%         0.000000       0.000000       0.000000       0.000000   \n",
       "75%         0.000000       0.000000       0.000000       0.000000   \n",
       "max         1.000000       1.000000       1.000000       4.000000   \n",
       "\n",
       "        SMS_received  \n",
       "count  110527.000000  \n",
       "mean        0.321026  \n",
       "std         0.466873  \n",
       "min         0.000000  \n",
       "25%         0.000000  \n",
       "50%         0.000000  \n",
       "75%         1.000000  \n",
       "max         1.000000  "
      ]
     },
     "execution_count": 132,
     "metadata": {},
     "output_type": "execute_result"
    }
   ],
   "source": [
    "df.describe()"
   ]
  },
  {
   "cell_type": "markdown",
   "metadata": {},
   "source": [
    "*There were 110,527 patient recorded in the dataset,The mean age accross the dataset is 37 years.9% of the patients in the dataset had the scholarship of the Bolsa Family healthcare which offered assistance to poor people.32% of the Patients recieved sms. The values of the handcap column seems to have an outlier of 4 it is supposed to be comprising of just 0s and 1s that seems to be a mistake.Also the age column has a minimum value of -1, that can't be right.*\n",
    "### Data Cleaning (No-show appointments)"
   ]
  },
  {
   "cell_type": "code",
   "execution_count": 133,
   "metadata": {},
   "outputs": [
    {
     "name": "stdout",
     "output_type": "stream",
     "text": [
      "<class 'pandas.core.frame.DataFrame'>\n",
      "RangeIndex: 110527 entries, 0 to 110526\n",
      "Data columns (total 14 columns):\n",
      " #   Column          Non-Null Count   Dtype              \n",
      "---  ------          --------------   -----              \n",
      " 0   PatientId       110527 non-null  object             \n",
      " 1   AppointmentID   110527 non-null  object             \n",
      " 2   Gender          110527 non-null  object             \n",
      " 3   ScheduledDay    110527 non-null  datetime64[ns, UTC]\n",
      " 4   AppointmentDay  110527 non-null  datetime64[ns, UTC]\n",
      " 5   Age             110527 non-null  int64              \n",
      " 6   Neighbourhood   110527 non-null  object             \n",
      " 7   Scholarship     110527 non-null  int64              \n",
      " 8   Hipertension    110527 non-null  int64              \n",
      " 9   Diabetes        110527 non-null  int64              \n",
      " 10  Alcoholism      110527 non-null  int64              \n",
      " 11  Handcap         110527 non-null  int64              \n",
      " 12  SMS_received    110527 non-null  int64              \n",
      " 13  No-show         110527 non-null  object             \n",
      "dtypes: datetime64[ns, UTC](2), int64(7), object(5)\n",
      "memory usage: 11.8+ MB\n"
     ]
    }
   ],
   "source": [
    "# converting columns to their appropriate data types\n",
    "df['PatientId'] = df['PatientId'].astype('str')\n",
    "df['AppointmentID'] = df['AppointmentID'].astype('str')\n",
    "df['ScheduledDay'] = pd.to_datetime(df['ScheduledDay'])\n",
    "df['AppointmentDay'] = pd.to_datetime(df['AppointmentDay'])\n",
    "# confirm change\n",
    "df.info()"
   ]
  },
  {
   "cell_type": "code",
   "execution_count": 134,
   "metadata": {},
   "outputs": [],
   "source": [
    "# correcting the spellings of the columns in the dataset by renaming them\n",
    "df.rename(columns ={'Hipertension' : 'Hypertension','Handcap' : 'Handicap','no-show' : 'no_show'},inplace = True)\n",
    "# converting the columns to lowercase for more uniformity\n",
    "df.columns = df.columns.str.lower()"
   ]
  },
  {
   "cell_type": "code",
   "execution_count": 135,
   "metadata": {},
   "outputs": [
    {
     "data": {
      "text/html": [
       "<div>\n",
       "<style scoped>\n",
       "    .dataframe tbody tr th:only-of-type {\n",
       "        vertical-align: middle;\n",
       "    }\n",
       "\n",
       "    .dataframe tbody tr th {\n",
       "        vertical-align: top;\n",
       "    }\n",
       "\n",
       "    .dataframe thead th {\n",
       "        text-align: right;\n",
       "    }\n",
       "</style>\n",
       "<table border=\"1\" class=\"dataframe\">\n",
       "  <thead>\n",
       "    <tr style=\"text-align: right;\">\n",
       "      <th></th>\n",
       "      <th>age</th>\n",
       "      <th>scholarship</th>\n",
       "      <th>hypertension</th>\n",
       "      <th>diabetes</th>\n",
       "      <th>alcoholism</th>\n",
       "      <th>handicap</th>\n",
       "      <th>sms_received</th>\n",
       "    </tr>\n",
       "  </thead>\n",
       "  <tbody>\n",
       "    <tr>\n",
       "      <th>count</th>\n",
       "      <td>106788.000000</td>\n",
       "      <td>106788.000000</td>\n",
       "      <td>106788.000000</td>\n",
       "      <td>106788.000000</td>\n",
       "      <td>106788.000000</td>\n",
       "      <td>106788.000000</td>\n",
       "      <td>106788.000000</td>\n",
       "    </tr>\n",
       "    <tr>\n",
       "      <th>mean</th>\n",
       "      <td>38.299294</td>\n",
       "      <td>0.101051</td>\n",
       "      <td>0.203356</td>\n",
       "      <td>0.073978</td>\n",
       "      <td>0.031389</td>\n",
       "      <td>0.019113</td>\n",
       "      <td>0.323426</td>\n",
       "    </tr>\n",
       "    <tr>\n",
       "      <th>std</th>\n",
       "      <td>22.453253</td>\n",
       "      <td>0.301397</td>\n",
       "      <td>0.402497</td>\n",
       "      <td>0.261737</td>\n",
       "      <td>0.174368</td>\n",
       "      <td>0.136922</td>\n",
       "      <td>0.467786</td>\n",
       "    </tr>\n",
       "    <tr>\n",
       "      <th>min</th>\n",
       "      <td>1.000000</td>\n",
       "      <td>0.000000</td>\n",
       "      <td>0.000000</td>\n",
       "      <td>0.000000</td>\n",
       "      <td>0.000000</td>\n",
       "      <td>0.000000</td>\n",
       "      <td>0.000000</td>\n",
       "    </tr>\n",
       "    <tr>\n",
       "      <th>25%</th>\n",
       "      <td>19.000000</td>\n",
       "      <td>0.000000</td>\n",
       "      <td>0.000000</td>\n",
       "      <td>0.000000</td>\n",
       "      <td>0.000000</td>\n",
       "      <td>0.000000</td>\n",
       "      <td>0.000000</td>\n",
       "    </tr>\n",
       "    <tr>\n",
       "      <th>50%</th>\n",
       "      <td>38.000000</td>\n",
       "      <td>0.000000</td>\n",
       "      <td>0.000000</td>\n",
       "      <td>0.000000</td>\n",
       "      <td>0.000000</td>\n",
       "      <td>0.000000</td>\n",
       "      <td>0.000000</td>\n",
       "    </tr>\n",
       "    <tr>\n",
       "      <th>75%</th>\n",
       "      <td>56.000000</td>\n",
       "      <td>0.000000</td>\n",
       "      <td>0.000000</td>\n",
       "      <td>0.000000</td>\n",
       "      <td>0.000000</td>\n",
       "      <td>0.000000</td>\n",
       "      <td>1.000000</td>\n",
       "    </tr>\n",
       "    <tr>\n",
       "      <th>max</th>\n",
       "      <td>115.000000</td>\n",
       "      <td>1.000000</td>\n",
       "      <td>1.000000</td>\n",
       "      <td>1.000000</td>\n",
       "      <td>1.000000</td>\n",
       "      <td>1.000000</td>\n",
       "      <td>1.000000</td>\n",
       "    </tr>\n",
       "  </tbody>\n",
       "</table>\n",
       "</div>"
      ],
      "text/plain": [
       "                 age    scholarship   hypertension       diabetes  \\\n",
       "count  106788.000000  106788.000000  106788.000000  106788.000000   \n",
       "mean       38.299294       0.101051       0.203356       0.073978   \n",
       "std        22.453253       0.301397       0.402497       0.261737   \n",
       "min         1.000000       0.000000       0.000000       0.000000   \n",
       "25%        19.000000       0.000000       0.000000       0.000000   \n",
       "50%        38.000000       0.000000       0.000000       0.000000   \n",
       "75%        56.000000       0.000000       0.000000       0.000000   \n",
       "max       115.000000       1.000000       1.000000       1.000000   \n",
       "\n",
       "          alcoholism       handicap   sms_received  \n",
       "count  106788.000000  106788.000000  106788.000000  \n",
       "mean        0.031389       0.019113       0.323426  \n",
       "std         0.174368       0.136922       0.467786  \n",
       "min         0.000000       0.000000       0.000000  \n",
       "25%         0.000000       0.000000       0.000000  \n",
       "50%         0.000000       0.000000       0.000000  \n",
       "75%         0.000000       0.000000       1.000000  \n",
       "max         1.000000       1.000000       1.000000  "
      ]
     },
     "execution_count": 135,
     "metadata": {},
     "output_type": "execute_result"
    }
   ],
   "source": [
    "# dropping values less than zero in the age column\n",
    "df.drop(df[df['age']<= 0].index, inplace = True)\n",
    "# dropping values greater than or equal to 2 \n",
    "df.drop(df[df['handicap'] >= 2].index,inplace = True)\n",
    "# confirming changes\n",
    "df.describe()"
   ]
  },
  {
   "cell_type": "markdown",
   "metadata": {},
   "source": [
    "*After cleaning and dropping the rows that were skewed and innacurate we can see that the dataset now has 106,788 patients and 32% received sms and the average age accross the entries is 38 years. 10% of the trimmed dataset had scholarships. *"
   ]
  },
  {
   "cell_type": "code",
   "execution_count": 136,
   "metadata": {},
   "outputs": [
    {
     "data": {
      "text/html": [
       "<div>\n",
       "<style scoped>\n",
       "    .dataframe tbody tr th:only-of-type {\n",
       "        vertical-align: middle;\n",
       "    }\n",
       "\n",
       "    .dataframe tbody tr th {\n",
       "        vertical-align: top;\n",
       "    }\n",
       "\n",
       "    .dataframe thead th {\n",
       "        text-align: right;\n",
       "    }\n",
       "</style>\n",
       "<table border=\"1\" class=\"dataframe\">\n",
       "  <thead>\n",
       "    <tr style=\"text-align: right;\">\n",
       "      <th></th>\n",
       "      <th>patientid</th>\n",
       "      <th>appointmentid</th>\n",
       "      <th>gender</th>\n",
       "      <th>scheduledday</th>\n",
       "      <th>appointmentday</th>\n",
       "      <th>age</th>\n",
       "      <th>neighbourhood</th>\n",
       "      <th>scholarship</th>\n",
       "      <th>hypertension</th>\n",
       "      <th>diabetes</th>\n",
       "      <th>alcoholism</th>\n",
       "      <th>handicap</th>\n",
       "      <th>sms_received</th>\n",
       "      <th>no-show</th>\n",
       "    </tr>\n",
       "  </thead>\n",
       "  <tbody>\n",
       "    <tr>\n",
       "      <th>0</th>\n",
       "      <td>29872499824296.0</td>\n",
       "      <td>5642903</td>\n",
       "      <td>F</td>\n",
       "      <td>2016-04-29 18:38:08+00:00</td>\n",
       "      <td>2016-04-29 00:00:00+00:00</td>\n",
       "      <td>62</td>\n",
       "      <td>JARDIM DA PENHA</td>\n",
       "      <td>0</td>\n",
       "      <td>1</td>\n",
       "      <td>0</td>\n",
       "      <td>0</td>\n",
       "      <td>0</td>\n",
       "      <td>0</td>\n",
       "      <td>No</td>\n",
       "    </tr>\n",
       "    <tr>\n",
       "      <th>1</th>\n",
       "      <td>558997776694438.0</td>\n",
       "      <td>5642503</td>\n",
       "      <td>M</td>\n",
       "      <td>2016-04-29 16:08:27+00:00</td>\n",
       "      <td>2016-04-29 00:00:00+00:00</td>\n",
       "      <td>56</td>\n",
       "      <td>JARDIM DA PENHA</td>\n",
       "      <td>0</td>\n",
       "      <td>0</td>\n",
       "      <td>0</td>\n",
       "      <td>0</td>\n",
       "      <td>0</td>\n",
       "      <td>0</td>\n",
       "      <td>No</td>\n",
       "    </tr>\n",
       "    <tr>\n",
       "      <th>2</th>\n",
       "      <td>4262962299951.0</td>\n",
       "      <td>5642549</td>\n",
       "      <td>F</td>\n",
       "      <td>2016-04-29 16:19:04+00:00</td>\n",
       "      <td>2016-04-29 00:00:00+00:00</td>\n",
       "      <td>62</td>\n",
       "      <td>MATA DA PRAIA</td>\n",
       "      <td>0</td>\n",
       "      <td>0</td>\n",
       "      <td>0</td>\n",
       "      <td>0</td>\n",
       "      <td>0</td>\n",
       "      <td>0</td>\n",
       "      <td>No</td>\n",
       "    </tr>\n",
       "    <tr>\n",
       "      <th>3</th>\n",
       "      <td>867951213174.0</td>\n",
       "      <td>5642828</td>\n",
       "      <td>F</td>\n",
       "      <td>2016-04-29 17:29:31+00:00</td>\n",
       "      <td>2016-04-29 00:00:00+00:00</td>\n",
       "      <td>8</td>\n",
       "      <td>PONTAL DE CAMBURI</td>\n",
       "      <td>0</td>\n",
       "      <td>0</td>\n",
       "      <td>0</td>\n",
       "      <td>0</td>\n",
       "      <td>0</td>\n",
       "      <td>0</td>\n",
       "      <td>No</td>\n",
       "    </tr>\n",
       "    <tr>\n",
       "      <th>4</th>\n",
       "      <td>8841186448183.0</td>\n",
       "      <td>5642494</td>\n",
       "      <td>F</td>\n",
       "      <td>2016-04-29 16:07:23+00:00</td>\n",
       "      <td>2016-04-29 00:00:00+00:00</td>\n",
       "      <td>56</td>\n",
       "      <td>JARDIM DA PENHA</td>\n",
       "      <td>0</td>\n",
       "      <td>1</td>\n",
       "      <td>1</td>\n",
       "      <td>0</td>\n",
       "      <td>0</td>\n",
       "      <td>0</td>\n",
       "      <td>No</td>\n",
       "    </tr>\n",
       "  </tbody>\n",
       "</table>\n",
       "</div>"
      ],
      "text/plain": [
       "           patientid appointmentid gender              scheduledday  \\\n",
       "0   29872499824296.0       5642903      F 2016-04-29 18:38:08+00:00   \n",
       "1  558997776694438.0       5642503      M 2016-04-29 16:08:27+00:00   \n",
       "2    4262962299951.0       5642549      F 2016-04-29 16:19:04+00:00   \n",
       "3     867951213174.0       5642828      F 2016-04-29 17:29:31+00:00   \n",
       "4    8841186448183.0       5642494      F 2016-04-29 16:07:23+00:00   \n",
       "\n",
       "             appointmentday  age      neighbourhood  scholarship  \\\n",
       "0 2016-04-29 00:00:00+00:00   62    JARDIM DA PENHA            0   \n",
       "1 2016-04-29 00:00:00+00:00   56    JARDIM DA PENHA            0   \n",
       "2 2016-04-29 00:00:00+00:00   62      MATA DA PRAIA            0   \n",
       "3 2016-04-29 00:00:00+00:00    8  PONTAL DE CAMBURI            0   \n",
       "4 2016-04-29 00:00:00+00:00   56    JARDIM DA PENHA            0   \n",
       "\n",
       "   hypertension  diabetes  alcoholism  handicap  sms_received no-show  \n",
       "0             1         0           0         0             0      No  \n",
       "1             0         0           0         0             0      No  \n",
       "2             0         0           0         0             0      No  \n",
       "3             0         0           0         0             0      No  \n",
       "4             1         1           0         0             0      No  "
      ]
     },
     "execution_count": 136,
     "metadata": {},
     "output_type": "execute_result"
    }
   ],
   "source": [
    "#printing the first few rows\n",
    "df.head()"
   ]
  },
  {
   "cell_type": "markdown",
   "metadata": {},
   "source": [
    ">Looking at the DataFrame the id columns needs to be renamed so that the can make sense at the first glance.\n",
    "\n",
    ">Also the patient id column seems to have been represented in decimal it was stored as a float.\n",
    "\n",
    ">And the boolean columns should also be represented as such.\n",
    "\n",
    "> For easier analytic process I would represent the no show column as 0 and 1 in a new column\n",
    "\n",
    "> I will also label the different ages according to different groups"
   ]
  },
  {
   "cell_type": "code",
   "execution_count": 137,
   "metadata": {},
   "outputs": [
    {
     "data": {
      "text/html": [
       "<div>\n",
       "<style scoped>\n",
       "    .dataframe tbody tr th:only-of-type {\n",
       "        vertical-align: middle;\n",
       "    }\n",
       "\n",
       "    .dataframe tbody tr th {\n",
       "        vertical-align: top;\n",
       "    }\n",
       "\n",
       "    .dataframe thead th {\n",
       "        text-align: right;\n",
       "    }\n",
       "</style>\n",
       "<table border=\"1\" class=\"dataframe\">\n",
       "  <thead>\n",
       "    <tr style=\"text-align: right;\">\n",
       "      <th></th>\n",
       "      <th>patient_id</th>\n",
       "      <th>appointment_id</th>\n",
       "      <th>gender</th>\n",
       "      <th>scheduled_day</th>\n",
       "      <th>appointment_day</th>\n",
       "      <th>age</th>\n",
       "      <th>neighbourhood</th>\n",
       "      <th>scholarship</th>\n",
       "      <th>hypertension</th>\n",
       "      <th>diabetes</th>\n",
       "      <th>alcoholism</th>\n",
       "      <th>handicap</th>\n",
       "      <th>sms_received</th>\n",
       "      <th>no_show</th>\n",
       "      <th>No-show</th>\n",
       "      <th>age_section</th>\n",
       "    </tr>\n",
       "  </thead>\n",
       "  <tbody>\n",
       "    <tr>\n",
       "      <th>110522</th>\n",
       "      <td>2572134369293</td>\n",
       "      <td>5651768</td>\n",
       "      <td>F</td>\n",
       "      <td>2016-05-03 09:15:35+00:00</td>\n",
       "      <td>2016-06-07 00:00:00+00:00</td>\n",
       "      <td>56</td>\n",
       "      <td>MARIA ORTIZ</td>\n",
       "      <td>False</td>\n",
       "      <td>False</td>\n",
       "      <td>False</td>\n",
       "      <td>False</td>\n",
       "      <td>False</td>\n",
       "      <td>True</td>\n",
       "      <td>No</td>\n",
       "      <td>0</td>\n",
       "      <td>Seniors</td>\n",
       "    </tr>\n",
       "    <tr>\n",
       "      <th>110523</th>\n",
       "      <td>3596266328735</td>\n",
       "      <td>5650093</td>\n",
       "      <td>F</td>\n",
       "      <td>2016-05-03 07:27:33+00:00</td>\n",
       "      <td>2016-06-07 00:00:00+00:00</td>\n",
       "      <td>51</td>\n",
       "      <td>MARIA ORTIZ</td>\n",
       "      <td>False</td>\n",
       "      <td>False</td>\n",
       "      <td>False</td>\n",
       "      <td>False</td>\n",
       "      <td>False</td>\n",
       "      <td>True</td>\n",
       "      <td>No</td>\n",
       "      <td>0</td>\n",
       "      <td>Seniors</td>\n",
       "    </tr>\n",
       "    <tr>\n",
       "      <th>110524</th>\n",
       "      <td>15576631729893</td>\n",
       "      <td>5630692</td>\n",
       "      <td>F</td>\n",
       "      <td>2016-04-27 16:03:52+00:00</td>\n",
       "      <td>2016-06-07 00:00:00+00:00</td>\n",
       "      <td>21</td>\n",
       "      <td>MARIA ORTIZ</td>\n",
       "      <td>False</td>\n",
       "      <td>False</td>\n",
       "      <td>False</td>\n",
       "      <td>False</td>\n",
       "      <td>False</td>\n",
       "      <td>True</td>\n",
       "      <td>No</td>\n",
       "      <td>0</td>\n",
       "      <td>Adult</td>\n",
       "    </tr>\n",
       "    <tr>\n",
       "      <th>110525</th>\n",
       "      <td>92134931435557</td>\n",
       "      <td>5630323</td>\n",
       "      <td>F</td>\n",
       "      <td>2016-04-27 15:09:23+00:00</td>\n",
       "      <td>2016-06-07 00:00:00+00:00</td>\n",
       "      <td>38</td>\n",
       "      <td>MARIA ORTIZ</td>\n",
       "      <td>False</td>\n",
       "      <td>False</td>\n",
       "      <td>False</td>\n",
       "      <td>False</td>\n",
       "      <td>False</td>\n",
       "      <td>True</td>\n",
       "      <td>No</td>\n",
       "      <td>0</td>\n",
       "      <td>Adult</td>\n",
       "    </tr>\n",
       "    <tr>\n",
       "      <th>110526</th>\n",
       "      <td>377511518121127</td>\n",
       "      <td>5629448</td>\n",
       "      <td>F</td>\n",
       "      <td>2016-04-27 13:30:56+00:00</td>\n",
       "      <td>2016-06-07 00:00:00+00:00</td>\n",
       "      <td>54</td>\n",
       "      <td>MARIA ORTIZ</td>\n",
       "      <td>False</td>\n",
       "      <td>False</td>\n",
       "      <td>False</td>\n",
       "      <td>False</td>\n",
       "      <td>False</td>\n",
       "      <td>True</td>\n",
       "      <td>No</td>\n",
       "      <td>0</td>\n",
       "      <td>Seniors</td>\n",
       "    </tr>\n",
       "  </tbody>\n",
       "</table>\n",
       "</div>"
      ],
      "text/plain": [
       "             patient_id appointment_id gender             scheduled_day  \\\n",
       "110522    2572134369293        5651768      F 2016-05-03 09:15:35+00:00   \n",
       "110523    3596266328735        5650093      F 2016-05-03 07:27:33+00:00   \n",
       "110524   15576631729893        5630692      F 2016-04-27 16:03:52+00:00   \n",
       "110525   92134931435557        5630323      F 2016-04-27 15:09:23+00:00   \n",
       "110526  377511518121127        5629448      F 2016-04-27 13:30:56+00:00   \n",
       "\n",
       "                 appointment_day  age neighbourhood  scholarship  \\\n",
       "110522 2016-06-07 00:00:00+00:00   56   MARIA ORTIZ        False   \n",
       "110523 2016-06-07 00:00:00+00:00   51   MARIA ORTIZ        False   \n",
       "110524 2016-06-07 00:00:00+00:00   21   MARIA ORTIZ        False   \n",
       "110525 2016-06-07 00:00:00+00:00   38   MARIA ORTIZ        False   \n",
       "110526 2016-06-07 00:00:00+00:00   54   MARIA ORTIZ        False   \n",
       "\n",
       "        hypertension  diabetes  alcoholism  handicap  sms_received no_show  \\\n",
       "110522         False     False       False     False          True      No   \n",
       "110523         False     False       False     False          True      No   \n",
       "110524         False     False       False     False          True      No   \n",
       "110525         False     False       False     False          True      No   \n",
       "110526         False     False       False     False          True      No   \n",
       "\n",
       "        No-show age_section  \n",
       "110522        0     Seniors  \n",
       "110523        0     Seniors  \n",
       "110524        0       Adult  \n",
       "110525        0       Adult  \n",
       "110526        0     Seniors  "
      ]
     },
     "execution_count": 137,
     "metadata": {},
     "output_type": "execute_result"
    }
   ],
   "source": [
    "# renaming the columns to make sense\n",
    "df.rename(columns = {'patientid':'patient_id','appointmentid':'appointment_id','scheduledday' :'scheduled_day','appointmentday':'appointment_day','no-show' :\"no_show\"},inplace = True)\n",
    "#fixing the patient_id column by using the apply function nested with the split function to remove the decimal.\n",
    "df['patient_id'] = df['patient_id'].apply(lambda x : x.split('.')[0])\n",
    "# converting the columns from int to boolean\n",
    "df = df.astype({'scholarship':'bool','hypertension' :'bool','diabetes' :'bool','alcoholism':'bool','handicap':'bool','sms_received':'bool'})\n",
    "#creating a column named No-show that take a zero value when no_show is no and one when no_show is yes\n",
    "df.loc[:,'No-show'] = df.loc[:,'no_show'].apply(lambda x:0 if x=='No'else 1)\n",
    "#creating a column that divide various ages in the dataframe to different labels\n",
    "df.loc[:,'age_section'] = pd.cut(df['age'],bins = [0,18,40,115],labels =['Children','Adult','Seniors'])\n",
    "# confirm change\n",
    "df.tail()"
   ]
  },
  {
   "cell_type": "markdown",
   "metadata": {},
   "source": [
    "#### The data looks clean and ready for analysis..."
   ]
  },
  {
   "cell_type": "markdown",
   "metadata": {},
   "source": [
    "<a id='eda'></a>\n",
    "## Exploratory Data Analysis\n",
    "\n",
    "\n",
    "### Research Question 1 (what is  the relationship between gender and the propensity to show up for scheduled appointments)"
   ]
  },
  {
   "cell_type": "code",
   "execution_count": 138,
   "metadata": {},
   "outputs": [
    {
     "name": "stdout",
     "output_type": "stream",
     "text": [
      "<class 'pandas.core.frame.DataFrame'>\n",
      "Int64Index: 36779 entries, 1 to 110515\n",
      "Data columns (total 16 columns):\n",
      " #   Column           Non-Null Count  Dtype              \n",
      "---  ------           --------------  -----              \n",
      " 0   patient_id       36779 non-null  object             \n",
      " 1   appointment_id   36779 non-null  object             \n",
      " 2   gender           36779 non-null  object             \n",
      " 3   scheduled_day    36779 non-null  datetime64[ns, UTC]\n",
      " 4   appointment_day  36779 non-null  datetime64[ns, UTC]\n",
      " 5   age              36779 non-null  int64              \n",
      " 6   neighbourhood    36779 non-null  object             \n",
      " 7   scholarship      36779 non-null  bool               \n",
      " 8   hypertension     36779 non-null  bool               \n",
      " 9   diabetes         36779 non-null  bool               \n",
      " 10  alcoholism       36779 non-null  bool               \n",
      " 11  handicap         36779 non-null  bool               \n",
      " 12  sms_received     36779 non-null  bool               \n",
      " 13  no_show          36779 non-null  object             \n",
      " 14  No-show          36779 non-null  int64              \n",
      " 15  age_section      36779 non-null  category           \n",
      "dtypes: bool(6), category(1), datetime64[ns, UTC](2), int64(2), object(5)\n",
      "memory usage: 3.1+ MB\n"
     ]
    }
   ],
   "source": [
    "# query to highlight only if the patient is male\n",
    "df_m = df.query('gender == \"M\"')\n",
    "#query to highlight only if the patient is female\n",
    "df_f = df.query('gender == \"F\"')\n",
    "\n",
    "# preview of the Male gender DataFrame...\n",
    "df_m.info()"
   ]
  },
  {
   "cell_type": "code",
   "execution_count": 139,
   "metadata": {},
   "outputs": [
    {
     "name": "stdout",
     "output_type": "stream",
     "text": [
      "<class 'pandas.core.frame.DataFrame'>\n",
      "Int64Index: 70009 entries, 0 to 110526\n",
      "Data columns (total 16 columns):\n",
      " #   Column           Non-Null Count  Dtype              \n",
      "---  ------           --------------  -----              \n",
      " 0   patient_id       70009 non-null  object             \n",
      " 1   appointment_id   70009 non-null  object             \n",
      " 2   gender           70009 non-null  object             \n",
      " 3   scheduled_day    70009 non-null  datetime64[ns, UTC]\n",
      " 4   appointment_day  70009 non-null  datetime64[ns, UTC]\n",
      " 5   age              70009 non-null  int64              \n",
      " 6   neighbourhood    70009 non-null  object             \n",
      " 7   scholarship      70009 non-null  bool               \n",
      " 8   hypertension     70009 non-null  bool               \n",
      " 9   diabetes         70009 non-null  bool               \n",
      " 10  alcoholism       70009 non-null  bool               \n",
      " 11  handicap         70009 non-null  bool               \n",
      " 12  sms_received     70009 non-null  bool               \n",
      " 13  no_show          70009 non-null  object             \n",
      " 14  No-show          70009 non-null  int64              \n",
      " 15  age_section      70009 non-null  category           \n",
      "dtypes: bool(6), category(1), datetime64[ns, UTC](2), int64(2), object(5)\n",
      "memory usage: 5.8+ MB\n"
     ]
    }
   ],
   "source": [
    "# preview of the female gender Dataframe\n",
    "df_f.info()"
   ]
  },
  {
   "cell_type": "code",
   "execution_count": 140,
   "metadata": {},
   "outputs": [
    {
     "data": {
      "image/png": "[encoded data removed]",
      "text/plain": [
       "<Figure size 432x288 with 1 Axes>"
      ]
     },
     "metadata": {
      "needs_background": "light"
     },
     "output_type": "display_data"
    }
   ],
   "source": [
    "# The total number of males that scheduled appointments\n",
    "total_m =len(df_m)\n",
    "# The total number of females that scheduled appointments\n",
    "total_f = len(df_f)\n",
    "# The plot of the gender total that scheduled appointments\n",
    "plt.bar(['Male','Female'],[total_m,total_f])\n",
    "plt.title('Gender share in scheduled appointments')\n",
    "plt.xlabel('Gender')\n",
    "plt.ylabel('Schedule appointments');"
   ]
  },
  {
   "cell_type": "markdown",
   "metadata": {},
   "source": [
    "*According to the visualization above the Female patients are significantly more than the Male patients in this dataset. I arrived at this insight by plotting the total number of Male patients against the female patients using the bar chart.\n",
    "I will look to extract more insights about the proportion of the male and female gender respectively that actually show up for their appointment after scheduling.*"
   ]
  },
  {
   "cell_type": "code",
   "execution_count": 141,
   "metadata": {},
   "outputs": [],
   "source": [
    "# The males that show up for their medical appointment\n",
    "df_ms = df_m[df_m['no_show'] == 'No']\n",
    "# The females that show up for their medical appointment\n",
    "df_fs = df_f[df_f['no_show'] == 'No']\n",
    "\n",
    "# The number of males that show up for their medical appointment\n",
    "total_ms = len(df_ms)\n",
    "#The number of females that show up for their medical appointment\n",
    "total_fs = len(df_fs)\n"
   ]
  },
  {
   "cell_type": "code",
   "execution_count": 142,
   "metadata": {},
   "outputs": [
    {
     "data": {
      "image/png": "[encoded data removed]",
      "text/plain": [
       "<Figure size 432x288 with 1 Axes>"
      ]
     },
     "metadata": {
      "needs_background": "light"
     },
     "output_type": "display_data"
    }
   ],
   "source": [
    "# The proportion of males that show up for their appointment\n",
    "prop_ms = total_ms / total_m \n",
    "# The proportion of males that show up for their appointment\n",
    "prop_fs = total_fs / total_f\n",
    "# The plot of the gender total that schedule appointments\n",
    "plt.bar(['Male','Female'],[prop_ms,prop_fs])\n",
    "plt.title('Proportion of gender that show up for appointments')\n",
    "plt.xlabel('Gender')\n",
    "plt.ylabel('Proportion of show-up appointments ');"
   ]
  },
  {
   "cell_type": "markdown",
   "metadata": {},
   "source": [
    "*The barchart above shows the proportion of Male and female patient that show up for their scheduled appointment on the appointment day. From the visualization above we can deduce that there is only a very minimal difference in the propensity of the gender share to show-up for appointments.*"
   ]
  },
  {
   "cell_type": "markdown",
   "metadata": {},
   "source": [
    "### Research Question 2  (What neighbourhood has the highest percentage of no-show ? what location that had the lowest percentage of no-show?  Are there any significant distinct trends between them?)"
   ]
  },
  {
   "cell_type": "code",
   "execution_count": 143,
   "metadata": {},
   "outputs": [],
   "source": [
    "# the total number of patients\n",
    "total_df = len(df)\n",
    "# query of patients that showed up to their appointments\n",
    "df_s = df.query('no_show == \"No\"')\n",
    "# query of patients that did not show up to their appointments\n",
    "df_n = df.query('no_show == \"Yes\"')\n",
    "# the total number of patients that showed up to their appointments\n",
    "df_show = len(df_s)\n",
    "# the total number of patients that did not show up to their appointments\n",
    "df_no = len(df_n)\n"
   ]
  },
  {
   "cell_type": "markdown",
   "metadata": {},
   "source": [
    "*Now I want to find the neighbourhood that had the highest number of No-shows to schedule appointments.*"
   ]
  },
  {
   "cell_type": "code",
   "execution_count": 144,
   "metadata": {},
   "outputs": [
    {
     "data": {
      "text/html": [
       "<div>\n",
       "<style scoped>\n",
       "    .dataframe tbody tr th:only-of-type {\n",
       "        vertical-align: middle;\n",
       "    }\n",
       "\n",
       "    .dataframe tbody tr th {\n",
       "        vertical-align: top;\n",
       "    }\n",
       "\n",
       "    .dataframe thead th {\n",
       "        text-align: right;\n",
       "    }\n",
       "</style>\n",
       "<table border=\"1\" class=\"dataframe\">\n",
       "  <thead>\n",
       "    <tr style=\"text-align: right;\">\n",
       "      <th></th>\n",
       "      <th>no_show</th>\n",
       "    </tr>\n",
       "    <tr>\n",
       "      <th>neighbourhood</th>\n",
       "      <th></th>\n",
       "    </tr>\n",
       "  </thead>\n",
       "  <tbody>\n",
       "    <tr>\n",
       "      <th>AEROPORTO</th>\n",
       "      <td>1</td>\n",
       "    </tr>\n",
       "    <tr>\n",
       "      <th>ANDORINHAS</th>\n",
       "      <td>508</td>\n",
       "    </tr>\n",
       "    <tr>\n",
       "      <th>ANTÔNIO HONÓRIO</th>\n",
       "      <td>45</td>\n",
       "    </tr>\n",
       "    <tr>\n",
       "      <th>ARIOVALDO FAVALESSA</th>\n",
       "      <td>61</td>\n",
       "    </tr>\n",
       "    <tr>\n",
       "      <th>BARRO VERMELHO</th>\n",
       "      <td>91</td>\n",
       "    </tr>\n",
       "  </tbody>\n",
       "</table>\n",
       "</div>"
      ],
      "text/plain": [
       "                     no_show\n",
       "neighbourhood               \n",
       "AEROPORTO                  1\n",
       "ANDORINHAS               508\n",
       "ANTÔNIO HONÓRIO           45\n",
       "ARIOVALDO FAVALESSA       61\n",
       "BARRO VERMELHO            91"
      ]
     },
     "execution_count": 144,
     "metadata": {},
     "output_type": "execute_result"
    }
   ],
   "source": [
    "# using group by to group the patients that did not show up to their appointments by neighbourhood and counting the number of no-shows \n",
    "df_location = df_n.groupby('neighbourhood').agg({'no_show':\"count\"})\n",
    "# using group by to group the patients that scheduled appointments by neighbourhood\n",
    "df_ls = df.groupby('neighbourhood').agg({\"no_show\": \"count\"})\n",
    "# examining the dataframe\n",
    "df_location.head()\n"
   ]
  },
  {
   "cell_type": "code",
   "execution_count": 145,
   "metadata": {},
   "outputs": [
    {
     "name": "stdout",
     "output_type": "stream",
     "text": [
      "no_show    1432\n",
      "dtype: int64 no_show    1\n",
      "dtype: int64\n"
     ]
    },
    {
     "data": {
      "text/html": [
       "<div>\n",
       "<style scoped>\n",
       "    .dataframe tbody tr th:only-of-type {\n",
       "        vertical-align: middle;\n",
       "    }\n",
       "\n",
       "    .dataframe tbody tr th {\n",
       "        vertical-align: top;\n",
       "    }\n",
       "\n",
       "    .dataframe thead th {\n",
       "        text-align: right;\n",
       "    }\n",
       "</style>\n",
       "<table border=\"1\" class=\"dataframe\">\n",
       "  <thead>\n",
       "    <tr style=\"text-align: right;\">\n",
       "      <th></th>\n",
       "      <th>no_show</th>\n",
       "    </tr>\n",
       "    <tr>\n",
       "      <th>neighbourhood</th>\n",
       "      <th></th>\n",
       "    </tr>\n",
       "  </thead>\n",
       "  <tbody>\n",
       "    <tr>\n",
       "      <th>JARDIM CAMBURI</th>\n",
       "      <td>1432</td>\n",
       "    </tr>\n",
       "  </tbody>\n",
       "</table>\n",
       "</div>"
      ],
      "text/plain": [
       "                no_show\n",
       "neighbourhood          \n",
       "JARDIM CAMBURI     1432"
      ]
     },
     "execution_count": 145,
     "metadata": {},
     "output_type": "execute_result"
    }
   ],
   "source": [
    "# printing the location with the highest and lowest number of no-show to appointments\n",
    "print(df_location.max(),df_location.min())\n",
    "# query where no-show is highest\n",
    "df_location.query('no_show == 1432')"
   ]
  },
  {
   "cell_type": "markdown",
   "metadata": {},
   "source": [
    "*Jaardim Camburi had the highest amount of no-shows after scheduled appointments.*"
   ]
  },
  {
   "cell_type": "code",
   "execution_count": 146,
   "metadata": {},
   "outputs": [
    {
     "data": {
      "text/html": [
       "<div>\n",
       "<style scoped>\n",
       "    .dataframe tbody tr th:only-of-type {\n",
       "        vertical-align: middle;\n",
       "    }\n",
       "\n",
       "    .dataframe tbody tr th {\n",
       "        vertical-align: top;\n",
       "    }\n",
       "\n",
       "    .dataframe thead th {\n",
       "        text-align: right;\n",
       "    }\n",
       "</style>\n",
       "<table border=\"1\" class=\"dataframe\">\n",
       "  <thead>\n",
       "    <tr style=\"text-align: right;\">\n",
       "      <th></th>\n",
       "      <th>no_show</th>\n",
       "    </tr>\n",
       "    <tr>\n",
       "      <th>neighbourhood</th>\n",
       "      <th></th>\n",
       "    </tr>\n",
       "  </thead>\n",
       "  <tbody>\n",
       "    <tr>\n",
       "      <th>AEROPORTO</th>\n",
       "      <td>1</td>\n",
       "    </tr>\n",
       "  </tbody>\n",
       "</table>\n",
       "</div>"
      ],
      "text/plain": [
       "               no_show\n",
       "neighbourhood         \n",
       "AEROPORTO            1"
      ]
     },
     "execution_count": 146,
     "metadata": {},
     "output_type": "execute_result"
    }
   ],
   "source": [
    "df_location.query('no_show == 1')"
   ]
  },
  {
   "cell_type": "markdown",
   "metadata": {},
   "source": [
    "*Aeroporto had the lowest number of no-shows recording only one in the neighbourhood. Now we want to get the percentage of patients in each neighbourhood that didn't show up for their appointments.*"
   ]
  },
  {
   "cell_type": "code",
   "execution_count": 147,
   "metadata": {},
   "outputs": [
    {
     "name": "stdout",
     "output_type": "stream",
     "text": [
      "80\n"
     ]
    }
   ],
   "source": [
    "# assigning the list of all neighbourhood with no-show to loc_uniq\n",
    "loc_uniq = df_n['neighbourhood'].unique()\n",
    "#printing the number of unique values in the neighbourhood column\n",
    "print(df_n['neighbourhood'].nunique())"
   ]
  },
  {
   "cell_type": "markdown",
   "metadata": {},
   "source": [
    "*We have 80 different neighbourhoods that had atleast one no-show up to their appointments.\n",
    "Now I want to create a DataFrame to store the percentage of patients that missed their appointment after scheduling them.*"
   ]
  },
  {
   "cell_type": "code",
   "execution_count": 148,
   "metadata": {},
   "outputs": [],
   "source": [
    "no_showrate =  df.groupby('neighbourhood').mean().loc[:,'No-show']\n"
   ]
  },
  {
   "cell_type": "code",
   "execution_count": 149,
   "metadata": {},
   "outputs": [
    {
     "data": {
      "text/plain": [
       "neighbourhood\n",
       "PARQUE INDUSTRIAL              0.000000\n",
       "ILHA DO BOI                    0.085714\n",
       "AEROPORTO                      0.125000\n",
       "MÁRIO CYPRESTE                 0.144414\n",
       "SOLON BORGES                   0.148230\n",
       "                                 ...   \n",
       "ITARARÉ                        0.263142\n",
       "SANTA CLARA                    0.266667\n",
       "SANTA CECÍLIA                  0.270880\n",
       "SANTOS DUMONT                  0.291901\n",
       "ILHAS OCEÂNICAS DE TRINDADE    1.000000\n",
       "Name: No-show, Length: 81, dtype: float64"
      ]
     },
     "execution_count": 149,
     "metadata": {},
     "output_type": "execute_result"
    }
   ],
   "source": [
    "# sorting the values by no-show percentage in ascending order\n",
    "no_showrates =no_showrate.sort_values()\n",
    "#examining the no_showrate\n",
    "no_showrates"
   ]
  },
  {
   "cell_type": "markdown",
   "metadata": {},
   "source": [
    "*The \"PARQUE INDUSTRIAL\" neighbourhood has the lowest percentage of patients that didn't show up for their appointment with 0% it seems off and i will investigate below. The \"ILHAS OCEÂNICAS DE TRINDADE\" has a 100% no-show percentage which also seems off as the next is \"Santos DUMONT\" WITH 29.19%. So i'm going to examine the neighbourhood further.* "
   ]
  },
  {
   "cell_type": "code",
   "execution_count": 150,
   "metadata": {},
   "outputs": [
    {
     "data": {
      "text/html": [
       "<div>\n",
       "<style scoped>\n",
       "    .dataframe tbody tr th:only-of-type {\n",
       "        vertical-align: middle;\n",
       "    }\n",
       "\n",
       "    .dataframe tbody tr th {\n",
       "        vertical-align: top;\n",
       "    }\n",
       "\n",
       "    .dataframe thead th {\n",
       "        text-align: right;\n",
       "    }\n",
       "</style>\n",
       "<table border=\"1\" class=\"dataframe\">\n",
       "  <thead>\n",
       "    <tr style=\"text-align: right;\">\n",
       "      <th></th>\n",
       "      <th>patient_id</th>\n",
       "      <th>appointment_id</th>\n",
       "      <th>gender</th>\n",
       "      <th>scheduled_day</th>\n",
       "      <th>appointment_day</th>\n",
       "      <th>age</th>\n",
       "      <th>neighbourhood</th>\n",
       "      <th>scholarship</th>\n",
       "      <th>hypertension</th>\n",
       "      <th>diabetes</th>\n",
       "      <th>alcoholism</th>\n",
       "      <th>handicap</th>\n",
       "      <th>sms_received</th>\n",
       "      <th>no_show</th>\n",
       "      <th>No-show</th>\n",
       "      <th>age_section</th>\n",
       "    </tr>\n",
       "  </thead>\n",
       "  <tbody>\n",
       "    <tr>\n",
       "      <th>48754</th>\n",
       "      <td>534986855114</td>\n",
       "      <td>5583947</td>\n",
       "      <td>F</td>\n",
       "      <td>2016-04-14 12:25:43+00:00</td>\n",
       "      <td>2016-05-13 00:00:00+00:00</td>\n",
       "      <td>51</td>\n",
       "      <td>ILHAS OCEÂNICAS DE TRINDADE</td>\n",
       "      <td>False</td>\n",
       "      <td>False</td>\n",
       "      <td>False</td>\n",
       "      <td>False</td>\n",
       "      <td>False</td>\n",
       "      <td>False</td>\n",
       "      <td>Yes</td>\n",
       "      <td>1</td>\n",
       "      <td>Seniors</td>\n",
       "    </tr>\n",
       "    <tr>\n",
       "      <th>48765</th>\n",
       "      <td>7256429752481</td>\n",
       "      <td>5583948</td>\n",
       "      <td>F</td>\n",
       "      <td>2016-04-14 12:26:13+00:00</td>\n",
       "      <td>2016-05-13 00:00:00+00:00</td>\n",
       "      <td>58</td>\n",
       "      <td>ILHAS OCEÂNICAS DE TRINDADE</td>\n",
       "      <td>False</td>\n",
       "      <td>False</td>\n",
       "      <td>False</td>\n",
       "      <td>False</td>\n",
       "      <td>False</td>\n",
       "      <td>False</td>\n",
       "      <td>Yes</td>\n",
       "      <td>1</td>\n",
       "      <td>Seniors</td>\n",
       "    </tr>\n",
       "  </tbody>\n",
       "</table>\n",
       "</div>"
      ],
      "text/plain": [
       "          patient_id appointment_id gender             scheduled_day  \\\n",
       "48754   534986855114        5583947      F 2016-04-14 12:25:43+00:00   \n",
       "48765  7256429752481        5583948      F 2016-04-14 12:26:13+00:00   \n",
       "\n",
       "                appointment_day  age                neighbourhood  \\\n",
       "48754 2016-05-13 00:00:00+00:00   51  ILHAS OCEÂNICAS DE TRINDADE   \n",
       "48765 2016-05-13 00:00:00+00:00   58  ILHAS OCEÂNICAS DE TRINDADE   \n",
       "\n",
       "       scholarship  hypertension  diabetes  alcoholism  handicap  \\\n",
       "48754        False         False     False       False     False   \n",
       "48765        False         False     False       False     False   \n",
       "\n",
       "       sms_received no_show  No-show age_section  \n",
       "48754         False     Yes        1     Seniors  \n",
       "48765         False     Yes        1     Seniors  "
      ]
     },
     "execution_count": 150,
     "metadata": {},
     "output_type": "execute_result"
    }
   ],
   "source": [
    "# query for where neighbourhood is ILHAS OCEÂNICAS DE TRINDADE\n",
    "df.query('neighbourhood == \"ILHAS OCEÂNICAS DE TRINDADE\"')"
   ]
  },
  {
   "cell_type": "markdown",
   "metadata": {},
   "source": [
    "*The \"ILHAS OCEÂNICAS DE TRINDADE\" just has 2 entries in the dataset that didn't show up for their appointment, it will be therefore not reliable to denote trends from it and compare with the other neighbourhoods. So I am going to drop it from my DataFrame and use the next highest neighbourhood, Santos Dumont.* "
   ]
  },
  {
   "cell_type": "code",
   "execution_count": 151,
   "metadata": {},
   "outputs": [],
   "source": [
    "# dropping the neighbourhood from the dataframe\n",
    "no_showrates.drop('ILHAS OCEÂNICAS DE TRINDADE',axis = 0,inplace = True)\n"
   ]
  },
  {
   "cell_type": "code",
   "execution_count": 152,
   "metadata": {},
   "outputs": [
    {
     "data": {
      "text/html": [
       "<div>\n",
       "<style scoped>\n",
       "    .dataframe tbody tr th:only-of-type {\n",
       "        vertical-align: middle;\n",
       "    }\n",
       "\n",
       "    .dataframe tbody tr th {\n",
       "        vertical-align: top;\n",
       "    }\n",
       "\n",
       "    .dataframe thead th {\n",
       "        text-align: right;\n",
       "    }\n",
       "</style>\n",
       "<table border=\"1\" class=\"dataframe\">\n",
       "  <thead>\n",
       "    <tr style=\"text-align: right;\">\n",
       "      <th></th>\n",
       "      <th>patient_id</th>\n",
       "      <th>appointment_id</th>\n",
       "      <th>gender</th>\n",
       "      <th>scheduled_day</th>\n",
       "      <th>appointment_day</th>\n",
       "      <th>age</th>\n",
       "      <th>neighbourhood</th>\n",
       "      <th>scholarship</th>\n",
       "      <th>hypertension</th>\n",
       "      <th>diabetes</th>\n",
       "      <th>alcoholism</th>\n",
       "      <th>handicap</th>\n",
       "      <th>sms_received</th>\n",
       "      <th>no_show</th>\n",
       "      <th>No-show</th>\n",
       "      <th>age_section</th>\n",
       "    </tr>\n",
       "  </thead>\n",
       "  <tbody>\n",
       "    <tr>\n",
       "      <th>75199</th>\n",
       "      <td>8255992453538</td>\n",
       "      <td>5663947</td>\n",
       "      <td>F</td>\n",
       "      <td>2016-05-05 10:48:59+00:00</td>\n",
       "      <td>2016-05-05 00:00:00+00:00</td>\n",
       "      <td>17</td>\n",
       "      <td>PARQUE INDUSTRIAL</td>\n",
       "      <td>False</td>\n",
       "      <td>False</td>\n",
       "      <td>False</td>\n",
       "      <td>False</td>\n",
       "      <td>False</td>\n",
       "      <td>False</td>\n",
       "      <td>No</td>\n",
       "      <td>0</td>\n",
       "      <td>Children</td>\n",
       "    </tr>\n",
       "  </tbody>\n",
       "</table>\n",
       "</div>"
      ],
      "text/plain": [
       "          patient_id appointment_id gender             scheduled_day  \\\n",
       "75199  8255992453538        5663947      F 2016-05-05 10:48:59+00:00   \n",
       "\n",
       "                appointment_day  age      neighbourhood  scholarship  \\\n",
       "75199 2016-05-05 00:00:00+00:00   17  PARQUE INDUSTRIAL        False   \n",
       "\n",
       "       hypertension  diabetes  alcoholism  handicap  sms_received no_show  \\\n",
       "75199         False     False       False     False         False      No   \n",
       "\n",
       "       No-show age_section  \n",
       "75199        0    Children  "
      ]
     },
     "execution_count": 152,
     "metadata": {},
     "output_type": "execute_result"
    }
   ],
   "source": [
    "df.query('neighbourhood == \"PARQUE INDUSTRIAL\"')"
   ]
  },
  {
   "cell_type": "markdown",
   "metadata": {},
   "source": [
    "The PARQUE INDUSTRIAL just has one entry in the dataset that didn't show up for their appointment, it will be therefore not reliable to denote trends from it and compare with the other neighbourhoods. So I am going to drop it from my grouped data."
   ]
  },
  {
   "cell_type": "code",
   "execution_count": 153,
   "metadata": {},
   "outputs": [],
   "source": [
    "# dropping the neighbourhood from the dataframe\n",
    "no_showrates.drop('PARQUE INDUSTRIAL',axis = 0,inplace = True)"
   ]
  },
  {
   "cell_type": "markdown",
   "metadata": {},
   "source": [
    "*Below I will be plotting an horizontal barchart that depicts the percentage of top and least 20 neighbourhoods thatpatients that didn't show up for their appointments.*"
   ]
  },
  {
   "cell_type": "code",
   "execution_count": 154,
   "metadata": {},
   "outputs": [
    {
     "data": {
      "image/png": "[encoded data removed]",
      "text/plain": [
       "<Figure size 720x576 with 1 Axes>"
      ]
     },
     "metadata": {
      "needs_background": "light"
     },
     "output_type": "display_data"
    }
   ],
   "source": [
    "#plotting the neighbourhoods with the lowest no-show rate\n",
    "no_showrates[:20].plot(kind='barh',figsize=(10,8),title = \"The neighbourhoods with the lowest percentage of Patients that did not show up to their appointment \",xlabel='Neighbourhood' );"
   ]
  },
  {
   "cell_type": "code",
   "execution_count": 155,
   "metadata": {},
   "outputs": [
    {
     "data": {
      "image/png": "[encoded data removed]",
      "text/plain": [
       "<Figure size 720x576 with 1 Axes>"
      ]
     },
     "metadata": {
      "needs_background": "light"
     },
     "output_type": "display_data"
    }
   ],
   "source": [
    "#plotting the neighbourhoods with the highest no-show rates\n",
    "no_showrates[60:81].plot(kind='barh',figsize=(10,8),title = \"The neighbourhoods with the highest percentage of Patients that did not show up to their appointment \",xlabel='Neighbourhood' );"
   ]
  },
  {
   "cell_type": "markdown",
   "metadata": {},
   "source": [
    "*Now according to the charts above the \"ILHA DO BOI\" had the lowest percentage of no-show ups and the \"SANTOS DUMONT\" had the highest percentage of No-show. Now I will examine the trends amongst this 2 neighbourhoods. starting with the age.*\n"
   ]
  },
  {
   "cell_type": "code",
   "execution_count": 156,
   "metadata": {},
   "outputs": [
    {
     "data": {
      "text/html": [
       "<div>\n",
       "<style scoped>\n",
       "    .dataframe tbody tr th:only-of-type {\n",
       "        vertical-align: middle;\n",
       "    }\n",
       "\n",
       "    .dataframe tbody tr th {\n",
       "        vertical-align: top;\n",
       "    }\n",
       "\n",
       "    .dataframe thead th {\n",
       "        text-align: right;\n",
       "    }\n",
       "</style>\n",
       "<table border=\"1\" class=\"dataframe\">\n",
       "  <thead>\n",
       "    <tr style=\"text-align: right;\">\n",
       "      <th></th>\n",
       "      <th>age</th>\n",
       "      <th>No-show</th>\n",
       "    </tr>\n",
       "  </thead>\n",
       "  <tbody>\n",
       "    <tr>\n",
       "      <th>count</th>\n",
       "      <td>1247.000000</td>\n",
       "      <td>1247.000000</td>\n",
       "    </tr>\n",
       "    <tr>\n",
       "      <th>mean</th>\n",
       "      <td>38.541299</td>\n",
       "      <td>0.291901</td>\n",
       "    </tr>\n",
       "    <tr>\n",
       "      <th>std</th>\n",
       "      <td>22.426331</td>\n",
       "      <td>0.454819</td>\n",
       "    </tr>\n",
       "    <tr>\n",
       "      <th>min</th>\n",
       "      <td>1.000000</td>\n",
       "      <td>0.000000</td>\n",
       "    </tr>\n",
       "    <tr>\n",
       "      <th>25%</th>\n",
       "      <td>20.000000</td>\n",
       "      <td>0.000000</td>\n",
       "    </tr>\n",
       "    <tr>\n",
       "      <th>50%</th>\n",
       "      <td>39.000000</td>\n",
       "      <td>0.000000</td>\n",
       "    </tr>\n",
       "    <tr>\n",
       "      <th>75%</th>\n",
       "      <td>57.000000</td>\n",
       "      <td>1.000000</td>\n",
       "    </tr>\n",
       "    <tr>\n",
       "      <th>max</th>\n",
       "      <td>95.000000</td>\n",
       "      <td>1.000000</td>\n",
       "    </tr>\n",
       "  </tbody>\n",
       "</table>\n",
       "</div>"
      ],
      "text/plain": [
       "               age      No-show\n",
       "count  1247.000000  1247.000000\n",
       "mean     38.541299     0.291901\n",
       "std      22.426331     0.454819\n",
       "min       1.000000     0.000000\n",
       "25%      20.000000     0.000000\n",
       "50%      39.000000     0.000000\n",
       "75%      57.000000     1.000000\n",
       "max      95.000000     1.000000"
      ]
     },
     "execution_count": 156,
     "metadata": {},
     "output_type": "execute_result"
    }
   ],
   "source": [
    "#Query for Santos Dumont neighbourhood in the dataset\n",
    "Santos_Dumont = df.query('neighbourhood == \"SANTOS DUMONT\"')\n",
    "#Query for iLhasdoboi neighbourhood in the dataset\n",
    "Ilha_do_Boi = df.query('neighbourhood == \"ILHA DO BOI\"')\n",
    "#Using describe to get the average age and the number of entries\n",
    "Santos_Dumont.describe()"
   ]
  },
  {
   "cell_type": "markdown",
   "metadata": {},
   "source": [
    "There are 1247 patients in Santos Dumont and the average age is 38.54 years.Now we want to examine the trend of neighbourhoods accross different variables, like the ailment admitted for also if they were sent more than one sms."
   ]
  },
  {
   "cell_type": "code",
   "execution_count": 157,
   "metadata": {},
   "outputs": [
    {
     "data": {
      "image/png": "[encoded data removed]",
      "text/plain": [
       "<Figure size 1080x720 with 6 Axes>"
      ]
     },
     "metadata": {
      "needs_background": "light"
     },
     "output_type": "display_data"
    }
   ],
   "source": [
    "# the size of the figure\n",
    "fig = plt.figure(figsize=(15,10)) \n",
    "#figure dimension of the plot\n",
    "fig_dims = (2, 3)\n",
    "\n",
    "\n",
    "# Plot the trends at Santos Dumont using the proportion of True or False\n",
    "plt.subplot2grid(fig_dims, (0, 0))\n",
    "Santos_Dumont['scholarship'].value_counts(normalize = True).plot(kind='bar', \n",
    "                                     title='scholarship')\n",
    "plt.subplot2grid(fig_dims, (0, 1))\n",
    "Santos_Dumont['hypertension'].value_counts(normalize =True).plot(kind='bar', \n",
    "                                     title='hypertension')\n",
    "plt.subplot2grid(fig_dims, (0, 2))\n",
    "Santos_Dumont['diabetes'].value_counts(normalize =True).plot(kind='bar', \n",
    "                                     title='diabetes')\n",
    "plt.subplot2grid(fig_dims, (1, 0))\n",
    "Santos_Dumont['alcoholism'].value_counts(normalize =True).plot(kind='bar', \n",
    "                                     title='alcoholism')\n",
    "plt.subplot2grid(fig_dims, (1,1))\n",
    "Santos_Dumont['handicap'].value_counts(normalize =True).plot(kind='bar', \n",
    "                                     title='handicap')\n",
    "plt.subplot2grid(fig_dims, (1,2))\n",
    "Santos_Dumont['sms_received'].value_counts(normalize =True).plot(kind='bar', \n",
    "                                     title='sms_received');"
   ]
  },
  {
   "cell_type": "markdown",
   "metadata": {},
   "source": [
    "*A stand out trend for people in Santos Dumont is their hypertensiveness a little over 30% of the Patients that scheduled appointments were hypertensive. A little under 20% had scholarships and access to free health care. 35% of patients in Santos Dumont recieved sms notifications from the hospital about their appointment. The mean age of people in Santos-Durmont is 38.54 years , this is significantly young an must have accrued to their high percentage of no-show.*"
   ]
  },
  {
   "cell_type": "code",
   "execution_count": 158,
   "metadata": {},
   "outputs": [
    {
     "data": {
      "text/html": [
       "<div>\n",
       "<style scoped>\n",
       "    .dataframe tbody tr th:only-of-type {\n",
       "        vertical-align: middle;\n",
       "    }\n",
       "\n",
       "    .dataframe tbody tr th {\n",
       "        vertical-align: top;\n",
       "    }\n",
       "\n",
       "    .dataframe thead th {\n",
       "        text-align: right;\n",
       "    }\n",
       "</style>\n",
       "<table border=\"1\" class=\"dataframe\">\n",
       "  <thead>\n",
       "    <tr style=\"text-align: right;\">\n",
       "      <th></th>\n",
       "      <th>age</th>\n",
       "      <th>No-show</th>\n",
       "    </tr>\n",
       "  </thead>\n",
       "  <tbody>\n",
       "    <tr>\n",
       "      <th>count</th>\n",
       "      <td>35.000000</td>\n",
       "      <td>35.000000</td>\n",
       "    </tr>\n",
       "    <tr>\n",
       "      <th>mean</th>\n",
       "      <td>48.628571</td>\n",
       "      <td>0.085714</td>\n",
       "    </tr>\n",
       "    <tr>\n",
       "      <th>std</th>\n",
       "      <td>18.384913</td>\n",
       "      <td>0.284029</td>\n",
       "    </tr>\n",
       "    <tr>\n",
       "      <th>min</th>\n",
       "      <td>20.000000</td>\n",
       "      <td>0.000000</td>\n",
       "    </tr>\n",
       "    <tr>\n",
       "      <th>25%</th>\n",
       "      <td>32.000000</td>\n",
       "      <td>0.000000</td>\n",
       "    </tr>\n",
       "    <tr>\n",
       "      <th>50%</th>\n",
       "      <td>57.000000</td>\n",
       "      <td>0.000000</td>\n",
       "    </tr>\n",
       "    <tr>\n",
       "      <th>75%</th>\n",
       "      <td>64.500000</td>\n",
       "      <td>0.000000</td>\n",
       "    </tr>\n",
       "    <tr>\n",
       "      <th>max</th>\n",
       "      <td>74.000000</td>\n",
       "      <td>1.000000</td>\n",
       "    </tr>\n",
       "  </tbody>\n",
       "</table>\n",
       "</div>"
      ],
      "text/plain": [
       "             age    No-show\n",
       "count  35.000000  35.000000\n",
       "mean   48.628571   0.085714\n",
       "std    18.384913   0.284029\n",
       "min    20.000000   0.000000\n",
       "25%    32.000000   0.000000\n",
       "50%    57.000000   0.000000\n",
       "75%    64.500000   0.000000\n",
       "max    74.000000   1.000000"
      ]
     },
     "execution_count": 158,
     "metadata": {},
     "output_type": "execute_result"
    }
   ],
   "source": [
    "#Using describe to get the average age and the number of entries\n",
    "Ilha_do_Boi.describe()"
   ]
  },
  {
   "cell_type": "markdown",
   "metadata": {},
   "source": [
    "There are 35 patients from the Ilha Do Boi neighbourhood and the average age is 48.62 years."
   ]
  },
  {
   "cell_type": "code",
   "execution_count": 159,
   "metadata": {},
   "outputs": [
    {
     "data": {
      "image/png": "[encoded data removed]",
      "text/plain": [
       "<Figure size 1080x720 with 6 Axes>"
      ]
     },
     "metadata": {
      "needs_background": "light"
     },
     "output_type": "display_data"
    }
   ],
   "source": [
    "# the size of the figure\n",
    "fig = plt.figure(figsize=(15,10)) \n",
    "#figure dimensions of the plot\n",
    "fig_dims = (2, 3)\n",
    "# Plot the trends at Ilhas Do Boi using the proportion of True or False\n",
    "plt.subplot2grid(fig_dims, (0, 0))\n",
    "Ilha_do_Boi['scholarship'].value_counts(normalize = True).plot(kind='bar', \n",
    "                                     title='scholarship')\n",
    "plt.subplot2grid(fig_dims, (0, 1))\n",
    "Ilha_do_Boi['hypertension'].value_counts(normalize =True).plot(kind='bar', \n",
    "                                     title='hypertension')\n",
    "plt.subplot2grid(fig_dims, (0, 2))\n",
    "Ilha_do_Boi['diabetes'].value_counts(normalize =True).plot(kind='bar', \n",
    "                                     title='diabetes')\n",
    "plt.subplot2grid(fig_dims, (1, 0))\n",
    "Ilha_do_Boi['alcoholism'].value_counts(normalize =True).plot(kind='bar', \n",
    "                                     title='alcoholism')\n",
    "plt.subplot2grid(fig_dims, (1,1))\n",
    "Ilha_do_Boi['handicap'].value_counts(normalize =True).plot(kind='bar', \n",
    "                                     title='handicap')\n",
    "plt.subplot2grid(fig_dims, (1,2))\n",
    "Ilha_do_Boi['sms_received'].value_counts(normalize =True).plot(kind='bar', \n",
    "                                     title='sms_received');"
   ]
  },
  {
   "cell_type": "markdown",
   "metadata": {},
   "source": [
    "*A stand out trend for people in Ilhas Do Boi is their average age is 48.63 years they are significantly older than people in Santos Durmont. No one had scholarships and access to free health care. 20% of patients in Ilhas Do Boi recieved sms notifications from the hospital about their appointment.*"
   ]
  },
  {
   "cell_type": "markdown",
   "metadata": {},
   "source": [
    "### Research Question 3(Are senior citizens more likely to adhere to scheduled appointments than the younger ones?)"
   ]
  },
  {
   "cell_type": "markdown",
   "metadata": {},
   "source": [
    "I want to bring out insights to find out if the age of patients is a factor when determining if they will show up or not. I will filter the data set approprately and find the proportion of those that didn't show up in each age group. With the seniors being 41 and above, Adults being from 18-40 years and children classified as 17 and under."
   ]
  },
  {
   "cell_type": "code",
   "execution_count": 160,
   "metadata": {},
   "outputs": [
    {
     "data": {
      "text/plain": [
       "age_section\n",
       "Children    0.225514\n",
       "Adult       0.231905\n",
       "Seniors     0.172304\n",
       "Name: No-show, dtype: float64"
      ]
     },
     "execution_count": 160,
     "metadata": {},
     "output_type": "execute_result"
    }
   ],
   "source": [
    "df.groupby('age_section').mean().loc[:,'No-show']"
   ]
  },
  {
   "cell_type": "markdown",
   "metadata": {},
   "source": [
    "*We can further deduce according to the findings patients from 18-40 who are classifed as adults have the highest no-show rates and senior citizens have the lowest no-show rate.*"
   ]
  },
  {
   "cell_type": "markdown",
   "metadata": {},
   "source": [
    "### Research Question 4( What are the trends associated with patients who do not-show and those that show-up to appointments?)"
   ]
  },
  {
   "cell_type": "code",
   "execution_count": 161,
   "metadata": {},
   "outputs": [],
   "source": [
    "#number of entries in the dataframe\n",
    "total_df = len(df)\n",
    "# filtering the show-up and no-show\n",
    "df_s = df.query('no_show == \"No\"')\n",
    "df_n = df.query('no_show == \"Yes\"')\n",
    "# total number of the no-show and show-up dataframe\n",
    "df_show = len(df_s)\n",
    "df_no = len(df_n)\n"
   ]
  },
  {
   "cell_type": "code",
   "execution_count": 162,
   "metadata": {},
   "outputs": [
    {
     "data": {
      "image/png": "[encoded data removed]",
      "text/plain": [
       "<Figure size 432x288 with 1 Axes>"
      ]
     },
     "metadata": {
      "needs_background": "light"
     },
     "output_type": "display_data"
    }
   ],
   "source": [
    "# proportion of the patients that show up and did not show up\n",
    "prop_s = df_show / total_df\n",
    "prop_n = df_no / total_df\n",
    "#plotting the bar-chart \n",
    "plt.bar(['Show-up','No-show'],[prop_s,prop_n])\n",
    "plt.title('The proportion of patients that show up and those that did not')\n",
    "plt.xlabel('Patient status')\n",
    "plt.ylabel('Proportion of Patient');"
   ]
  },
  {
   "cell_type": "markdown",
   "metadata": {},
   "source": [
    "*About 80% of the patients that scheduled appointments showed up to their appointment and 20 % defaulted. Now we want to examine the trends accross ailments and scholarship and sms recieved within patients that do not show up and those that do.*\n"
   ]
  },
  {
   "cell_type": "code",
   "execution_count": 163,
   "metadata": {},
   "outputs": [
    {
     "data": {
      "image/png": "[encoded data removed]",
      "text/plain": [
       "<Figure size 432x288 with 1 Axes>"
      ]
     },
     "metadata": {
      "needs_background": "light"
     },
     "output_type": "display_data"
    }
   ],
   "source": [
    "# mean age of those that don't show up and those that do\n",
    "age_no= df_n['age'].mean()\n",
    "age_yes =df_s['age'].mean()\n",
    "\n",
    "#plotting the bar-chart \n",
    "plt.bar(['Show-up','No-show'],[age_yes,age_no])\n",
    "plt.title('The average age of those that show up and those that do not')\n",
    "plt.xlabel('Patient status')\n",
    "plt.ylabel('age');"
   ]
  },
  {
   "cell_type": "markdown",
   "metadata": {},
   "source": [
    "*Patients that do not show up for appointments are younger than those that do. So I would examine the trends amongst other factors for those patients that show up for appointment and those that do not.*"
   ]
  },
  {
   "cell_type": "code",
   "execution_count": 164,
   "metadata": {},
   "outputs": [
    {
     "data": {
      "image/png": "[encoded data removed]",
      "text/plain": [
       "<Figure size 1080x720 with 6 Axes>"
      ]
     },
     "metadata": {
      "needs_background": "light"
     },
     "output_type": "display_data"
    }
   ],
   "source": [
    "# the size of the figure\n",
    "fig = plt.figure(figsize=(15,10)) \n",
    "#figure dimensions of the plot\n",
    "fig_dims = (2, 3)\n",
    "\n",
    "\n",
    " # Plot the trends of no-show using the proportion of True or False\n",
    "plt.subplot2grid(fig_dims, (0, 0))\n",
    "df_n['scholarship'].value_counts(normalize = True).plot(kind='bar', \n",
    "                                     title='scholarship')\n",
    "plt.subplot2grid(fig_dims, (0, 1))\n",
    "df_n['hypertension'].value_counts(normalize =True).plot(kind='bar', \n",
    "                                     title='hypertension')\n",
    "plt.subplot2grid(fig_dims, (0, 2))\n",
    "df_n['diabetes'].value_counts(normalize =True).plot(kind='bar', \n",
    "                                     title='diabetes')\n",
    "plt.subplot2grid(fig_dims, (1, 0))\n",
    "df_n['alcoholism'].value_counts(normalize =True).plot(kind='bar', \n",
    "                                     title='alcoholism')\n",
    "plt.subplot2grid(fig_dims, (1,1))\n",
    "df_n['handicap'].value_counts(normalize =True).plot(kind='bar', \n",
    "                                     title='handicap')\n",
    "plt.subplot2grid(fig_dims, (1,2))\n",
    "df_n['sms_received'].value_counts(normalize =True).plot(kind='bar', \n",
    "                                     title='sms_received');"
   ]
  },
  {
   "cell_type": "markdown",
   "metadata": {},
   "source": [
    "*An intresting insight above shows that amongst Patients that didn't show over 40% of them recieved sms and a little under 20% had scholarships.*"
   ]
  },
  {
   "cell_type": "code",
   "execution_count": 165,
   "metadata": {},
   "outputs": [
    {
     "data": {
      "image/png": "[encoded data removed]",
      "text/plain": [
       "<Figure size 1080x720 with 6 Axes>"
      ]
     },
     "metadata": {
      "needs_background": "light"
     },
     "output_type": "display_data"
    }
   ],
   "source": [
    "# the size of the figure\n",
    "fig = plt.figure(figsize=(15,10)) \n",
    "#figure dimensions of the plot\n",
    "fig_dims = (2, 3)\n",
    "\n",
    "\n",
    "# Plot the trends of show-up using the proportion of True or False\n",
    "plt.subplot2grid(fig_dims, (0, 0))\n",
    "df_s['scholarship'].value_counts(normalize = True).plot(kind='bar', \n",
    "                                     title='scholarship')\n",
    "plt.subplot2grid(fig_dims, (0, 1))\n",
    "df_s['hypertension'].value_counts(normalize =True).plot(kind='bar', \n",
    "                                     title='hypertension')\n",
    "plt.subplot2grid(fig_dims, (0, 2))\n",
    "df_s['diabetes'].value_counts(normalize =True).plot(kind='bar', \n",
    "                                     title='diabetes')\n",
    "plt.subplot2grid(fig_dims, (1, 0))\n",
    "df_s['alcoholism'].value_counts(normalize =True).plot(kind='bar', \n",
    "                                     title='alcoholism')\n",
    "plt.subplot2grid(fig_dims, (1,1))\n",
    "df_s['handicap'].value_counts(normalize =True).plot(kind='bar', \n",
    "                                     title='handicap')\n",
    "plt.subplot2grid(fig_dims, (1,2))\n",
    "df_s['sms_received'].value_counts(normalize =True).plot(kind='bar', \n",
    "                                     title='sms_received');"
   ]
  },
  {
   "cell_type": "markdown",
   "metadata": {},
   "source": [
    "*An intresting insight above shows that amongst Patients that showed up for their appointment a little over 30% of them recieved sms and a little only 9% had scholarships.*"
   ]
  },
  {
   "cell_type": "markdown",
   "metadata": {},
   "source": [
    "### Research question 5 (Do people with scholarships show up more than those without?)"
   ]
  },
  {
   "cell_type": "code",
   "execution_count": 166,
   "metadata": {},
   "outputs": [
    {
     "data": {
      "text/plain": [
       "scholarship\n",
       "False    0.198642\n",
       "True     0.238161\n",
       "Name: No-show, dtype: float64"
      ]
     },
     "execution_count": 166,
     "metadata": {},
     "output_type": "execute_result"
    }
   ],
   "source": [
    "df.groupby('scholarship').mean().loc[:,'No-show']"
   ]
  },
  {
   "cell_type": "markdown",
   "metadata": {},
   "source": [
    "*So according to the findings above we can deduce that patients with scholarships have a no-show rate of 23.81% tend to miss appointments more than patients without scholarships who have a no-show rate of 19.86%.*"
   ]
  },
  {
   "cell_type": "markdown",
   "metadata": {},
   "source": [
    "<a id='conclusions'></a>\n",
    "## Conclusions\n",
    "\n"
   ]
  },
  {
   "cell_type": "markdown",
   "metadata": {},
   "source": [
    "After careful exploratory analysis, i was able to pull out insights from the No-showappointment dataset to answer the questions posed in the introduction. \n",
    "\n",
    "During my research i was able to conclude that women are almost 2x likely to schedule appointment than men in brazil,although when creating study patterns around the no-show rates there is sa striking similarity and no distinct difference in their tendency to show up for medical appointments.\n",
    "\n",
    "I also observed that the Jardim Camburi neighbourhood had the highest amount of patients that didn't show up but that was testament to the size, after carefully drafting an analysis to preview the percentage of No-shows Santos Durmont neighbourhood had the highest no-show rate. The Ilhas Do Boi neighbourhood had the least perecntage of No-show and when compared with the Santos Durmont the mean ages at Ilhas Do Boi neighbourhood were much older.\n",
    "\n",
    "I deduced that 80% of Patients actually follow up with their scheduled appointment and 20% do not show-up for that appointment. \n",
    "\n",
    "I discovered a pattern that the strongest factor when predicting if a Patient will show up is the age of the patient. Neighbourhoods with older people had a lower no-show rate than Neighbourhoods with younger people. Also senior citizens in brazil have a way lesser no-show rate than younger citizens in brazil. Also the average age of patients that didn't show up is significantly younger than the average age of Patients that did.\n",
    "\n",
    "Finally Patients with scholarships or free access to healthcare have more propensity to not show up than patients without and this could be as a result of the money factor, patients that paid for the health care wouldn't want to take their appointments for granted. Although this tentative as it wasn't stated if the payments were made before the appointment or after the appointment.\n"
   ]
  },
  {
   "cell_type": "markdown",
   "metadata": {},
   "source": [
    "**Limitations to study**\n",
    "\n",
    "Lack of information: A lot more information should have been recorded accross the ailments columns for example the patients were limited to fewer ailments. This denied me the ability to get the clearer picture\n",
    "\n",
    "Limitation of dataset to only counts : Most of the dataset was factored around counting only the age column had proper insightful data.\n",
    "\n",
    "Rigidity: The rigidity of the dataset didn't give me the avenue to test my flexibility through manipulations.\n",
    "\n",
    "Iconsistent values across the dataset \n",
    "\n",
    "There is a need of some other variables that inform with further characteristics or even a need to run statistical tests to estimate the confidence of the conclusions obtained.\n",
    "\n",
    "\n"
   ]
  },
  {
   "cell_type": "markdown",
   "metadata": {},
   "source": [
    "### Refrences"
   ]
  },
  {
   "cell_type": "markdown",
   "metadata": {},
   "source": [
    ">Stackoverflow : https://stackoverflow.com/questions/31303417/python-pandas-dataframe-group-by-based-on-a-condition\n",
    "\n",
    ">GeekforGeek:https://www.geeksforgeeks.org/how-to-change-the-size-of-figures-drawn-with-matplotlib/#:~:text=Syntax%20of%20matplotlib.&text=The%20figsize%20attribute%20is%20a,of%2080%20x%2080%20pixels.\n",
    "\n",
    ">W3schools :https://www.geeksforgeeks.org/how-to-change-the-size-of-figures-drawn-with-matplotlib/#:~:text=Syntax%20of%20matplotlib.&text=The%20figsize%20attribute%20is%20a,of%2080%20x%2080%20pixels.\n",
    "\n",
    ">Pandas pydata.org :https://pandas.pydata.org/docs/reference/api/pandas.Series.drop.html\n"
   ]
  },
  {
   "cell_type": "code",
   "execution_count": null,
   "metadata": {},
   "outputs": [],
   "source": []
  }
 ],
 "metadata": {
  "kernelspec": {
   "display_name": "Python 3 (ipykernel)",
   "language": "python",
   "name": "python3"
  },
  "language_info": {
   "codemirror_mode": {
    "name": "ipython",
    "version": 3
   },
   "file_extension": ".py",
   "mimetype": "text/x-python",
   "name": "python",
   "nbconvert_exporter": "python",
   "pygments_lexer": "ipython3",
   "version": "3.9.12"
  }
 },
 "nbformat": 4,
 "nbformat_minor": 2
}
